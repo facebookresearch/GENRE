{
 "cells": [
  {
   "cell_type": "code",
   "execution_count": null,
   "metadata": {},
   "outputs": [],
   "source": [
    "%load_ext autoreload\n",
    "%autoreload 2"
   ]
  },
  {
   "cell_type": "code",
   "execution_count": null,
   "metadata": {},
   "outputs": [],
   "source": [
    "import pickle\n",
    "from transformers import BartForConditionalGeneration, BartTokenizer\n",
    "from genre.trie import Trie\n",
    "from genre.entity_linking import get_end_to_end_prefix_allowed_tokens_fn_hf"
   ]
  },
  {
   "cell_type": "code",
   "execution_count": null,
   "metadata": {},
   "outputs": [],
   "source": [
    "# loading trie from KILT Wikipedia titles\n",
    "with open(\"data/kilt_titles_trie.pkl\", \"rb\") as f:\n",
    "    trie = pickle.load(f)\n",
    "    \n",
    "# defining the funciton to apply the constraints with the entities trie\n",
    "def prefix_allowed_tokens_fn(batch_id, sent):\n",
    "    return trie.get(sent.tolist())"
   ]
  },
  {
   "cell_type": "markdown",
   "metadata": {},
   "source": [
    "# Entity Disambiguation"
   ]
  },
  {
   "cell_type": "code",
   "execution_count": null,
   "metadata": {},
   "outputs": [],
   "source": [
    "# loading tokenizer and model\n",
    "tokenizer = BartTokenizer.from_pretrained(\"models/hf_entity_disambiguation_aidayago\")\n",
    "model = (\n",
    "    BartForConditionalGeneration.from_pretrained(\"models/hf_entity_disambiguation_aidayago\")\n",
    "    .eval()\n",
    "    .to(\"cuda:0\")\n",
    ")"
   ]
  },
  {
   "cell_type": "code",
   "execution_count": null,
   "metadata": {
    "scrolled": true
   },
   "outputs": [],
   "source": [
    "# create inputs\n",
    "sentences = [\" [START_ENT] London [END_ENT] is the capital of the UK.\"]\n",
    "input_args = {\n",
    "    k: v.to(model.device) for k, v in tokenizer.batch_encode_plus(\n",
    "        sentences,\n",
    "        padding=True,\n",
    "        return_tensors=\"pt\"\n",
    "    ).items()\n",
    "}\n",
    "\n",
    "# generating from the model\n",
    "tokenizer.batch_decode(\n",
    "    model.generate(\n",
    "        **input_args,\n",
    "        min_length=0,\n",
    "        num_beams=5,\n",
    "        num_return_sequences=5,\n",
    "        prefix_allowed_tokens_fn=prefix_allowed_tokens_fn,\n",
    "    ),\n",
    "    skip_special_tokens=True\n",
    ")"
   ]
  },
  {
   "cell_type": "markdown",
   "metadata": {},
   "source": [
    "# Document Retieval"
   ]
  },
  {
   "cell_type": "code",
   "execution_count": null,
   "metadata": {},
   "outputs": [],
   "source": [
    "# loading tokenizer and model\n",
    "tokenizer = BartTokenizer.from_pretrained(\"models/hf_wikipage_retrieval\")\n",
    "model = (\n",
    "    BartForConditionalGeneration.from_pretrained(\"models/hf_wikipage_retrieval\")\n",
    "    .eval()\n",
    "    .to(\"cuda:0\")\n",
    ")"
   ]
  },
  {
   "cell_type": "code",
   "execution_count": null,
   "metadata": {},
   "outputs": [],
   "source": [
    "# create inputs\n",
    "sentences = [\"Stripes had Conrad Dunn featured in it\"]\n",
    "input_args = {\n",
    "    k: v.to(model.device) for k, v in tokenizer.batch_encode_plus(\n",
    "        sentences,\n",
    "        return_tensors=\"pt\"\n",
    "    ).items()\n",
    "}\n",
    "\n",
    "# generating from the model\n",
    "tokenizer.batch_decode(\n",
    "    model.generate(\n",
    "        **input_args,\n",
    "        min_length=0,\n",
    "        num_beams=5,\n",
    "        num_return_sequences=5,\n",
    "        prefix_allowed_tokens_fn=prefix_allowed_tokens_fn,\n",
    "    ),\n",
    "    skip_special_tokens=True\n",
    ")"
   ]
  },
  {
   "cell_type": "markdown",
   "metadata": {},
   "source": [
    "# End-to-End Entity Linking"
   ]
  },
  {
   "cell_type": "code",
   "execution_count": null,
   "metadata": {},
   "outputs": [],
   "source": [
    "# loading tokenizer and model\n",
    "tokenizer = BartTokenizer.from_pretrained(\"models/hf_e2e_entity_linking_wiki_abs\")\n",
    "model = (\n",
    "    BartForConditionalGeneration.from_pretrained(\"models/hf_e2e_entity_linking_wiki_abs\")\n",
    "    .eval()\n",
    "    .to(\"cuda:0\")\n",
    ")"
   ]
  },
  {
   "cell_type": "code",
   "execution_count": null,
   "metadata": {},
   "outputs": [],
   "source": [
    "# create inputs\n",
    "sentences = [\" London is the capital of the UK \"]\n",
    "input_args = {\n",
    "    k: v.to(model.device) for k, v in tokenizer.batch_encode_plus(\n",
    "        sentences,\n",
    "        return_tensors=\"pt\"\n",
    "    ).items()\n",
    "}\n",
    "\n",
    "# no constrains on mention and candidates\n",
    "prefix_allowed_tokens_fn = get_end_to_end_prefix_allowed_tokens_fn_hf(tokenizer, sentences)\n",
    "\n",
    "# generating from the model\n",
    "tokenizer.batch_decode(\n",
    "    model.generate(\n",
    "        **input_args,\n",
    "        min_length=0,\n",
    "        num_beams=5,\n",
    "        num_return_sequences=5,\n",
    "        prefix_allowed_tokens_fn=prefix_allowed_tokens_fn,\n",
    "    ),\n",
    "    skip_special_tokens=True\n",
    ")"
   ]
  },
  {
   "cell_type": "code",
   "execution_count": null,
   "metadata": {},
   "outputs": [],
   "source": [
    "# constraining the mentions with a prefix tree - no constrains on candidates\n",
    "prefix_allowed_tokens_fn = get_end_to_end_prefix_allowed_tokens_fn_hf(\n",
    "    tokenizer,\n",
    "    sentences,\n",
    "    mention_trie=Trie([\n",
    "        tokenizer.encode(e)[1:]\n",
    "        for e in [\" London\"]\n",
    "    ])\n",
    ")\n",
    "\n",
    "# generating from the model\n",
    "tokenizer.batch_decode(\n",
    "    model.generate(\n",
    "        **input_args,\n",
    "        min_length=0,\n",
    "        num_beams=5,\n",
    "        num_return_sequences=5,\n",
    "        prefix_allowed_tokens_fn=prefix_allowed_tokens_fn,\n",
    "    ),\n",
    "    skip_special_tokens=True\n",
    ")"
   ]
  },
  {
   "cell_type": "code",
   "execution_count": null,
   "metadata": {},
   "outputs": [],
   "source": [
    "# constraining the candidate sets given a mention\n",
    "prefix_allowed_tokens_fn = get_end_to_end_prefix_allowed_tokens_fn_hf(\n",
    "    tokenizer,\n",
    "    sentences,\n",
    "    mention_to_candidates_dict={\n",
    "        \"London\": [\"London\"],\n",
    "        \"UK\": [\"UK\"],\n",
    "    }\n",
    ")\n",
    "\n",
    "# generating from the model\n",
    "tokenizer.batch_decode(\n",
    "    model.generate(\n",
    "        **input_args,\n",
    "        min_length=0,\n",
    "        num_beams=5,\n",
    "        num_return_sequences=5,\n",
    "        prefix_allowed_tokens_fn=prefix_allowed_tokens_fn,\n",
    "    ),\n",
    "    skip_special_tokens=True\n",
    ")"
   ]
  },
  {
   "cell_type": "code",
   "execution_count": null,
   "metadata": {},
   "outputs": [],
   "source": [
    "# constraining the candidates with a prefix tree - no constrains on mentions\n",
    "prefix_allowed_tokens_fn = get_end_to_end_prefix_allowed_tokens_fn_hf(\n",
    "    tokenizer,\n",
    "    sentences,\n",
    "    candidates_trie=Trie([\n",
    "        tokenizer.encode(\" }} [ {} ]\".format(e))[1:]\n",
    "        for e in [\"London\", \"UK\", \"NIL\"]\n",
    "    ])\n",
    ")\n",
    "\n",
    "# generating from the model\n",
    "tokenizer.batch_decode(\n",
    "    model.generate(\n",
    "        **input_args,\n",
    "        min_length=0,\n",
    "        num_beams=5,\n",
    "        num_return_sequences=5,\n",
    "        prefix_allowed_tokens_fn=prefix_allowed_tokens_fn,\n",
    "    ),\n",
    "    skip_special_tokens=True\n",
    ")"
   ]
  },
  {
   "cell_type": "code",
   "execution_count": null,
   "metadata": {},
   "outputs": [],
   "source": []
  },
  {
   "cell_type": "code",
   "execution_count": null,
   "metadata": {},
   "outputs": [],
   "source": [
    "# loading mention -> candidates used with GERBIL\n",
    "with open(\"data/mention_to_candidates_dict_gerbil.pkl\", \"rb\") as f:\n",
    "    mention_to_candidates_dict = pickle.load(f)\n",
    "    \n",
    "# loading the mention trie used with GERBIL\n",
    "with open(\"data/mention_trie_gerbil.pkl\", \"rb\") as f:\n",
    "    mention_trie = pickle.load(f)"
   ]
  },
  {
   "cell_type": "code",
   "execution_count": null,
   "metadata": {},
   "outputs": [],
   "source": [
    "# constraining the candidates with a prefix tree - no constrains on mentions\n",
    "prefix_allowed_tokens_fn = get_end_to_end_prefix_allowed_tokens_fn_hf(\n",
    "    tokenizer,\n",
    "    sentences,\n",
    "    mention_trie=mention_trie,\n",
    "    mention_to_candidates_dict=mention_to_candidates_dict,\n",
    ")\n",
    "\n",
    "# generating from the model\n",
    "tokenizer.batch_decode(\n",
    "    model.generate(\n",
    "        **input_args,\n",
    "        min_length=0,\n",
    "        num_beams=5,\n",
    "        num_return_sequences=5,\n",
    "        prefix_allowed_tokens_fn=prefix_allowed_tokens_fn,\n",
    "    ),\n",
    "    skip_special_tokens=True\n",
    ")"
   ]
  },
  {
   "cell_type": "code",
   "execution_count": null,
   "metadata": {},
   "outputs": [],
   "source": []
  },
  {
   "cell_type": "code",
   "execution_count": null,
   "metadata": {},
   "outputs": [],
   "source": [
    "from genre.utils import get_entity_spans_hf"
   ]
  },
  {
   "cell_type": "code",
   "execution_count": null,
   "metadata": {},
   "outputs": [],
   "source": [
    "sentences = [\"London is the capital of the UK\"]"
   ]
  },
  {
   "cell_type": "code",
   "execution_count": null,
   "metadata": {},
   "outputs": [],
   "source": [
    "get_entity_spans_hf(model, tokenizer, sentences)"
   ]
  },
  {
   "cell_type": "code",
   "execution_count": null,
   "metadata": {},
   "outputs": [],
   "source": []
  },
  {
   "cell_type": "code",
   "execution_count": null,
   "metadata": {},
   "outputs": [],
   "source": []
  }
 ],
 "metadata": {
  "kernelspec": {
   "display_name": "Python 3",
   "language": "python",
   "name": "python3"
  },
  "language_info": {
   "codemirror_mode": {
    "name": "ipython",
    "version": 3
   },
   "file_extension": ".py",
   "mimetype": "text/x-python",
   "name": "python",
   "nbconvert_exporter": "python",
   "pygments_lexer": "ipython3",
   "version": "3.7.9"
  }
 },
 "nbformat": 4,
 "nbformat_minor": 4
}
