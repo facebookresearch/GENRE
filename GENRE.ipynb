{
 "cells": [
  {
   "cell_type": "code",
   "execution_count": null,
   "metadata": {},
   "outputs": [],
   "source": [
    "%load_ext autoreload\n",
    "%autoreload 2"
   ]
  },
  {
   "cell_type": "markdown",
   "metadata": {},
   "source": [
    "# Entity Disambiguation (fairseq)"
   ]
  },
  {
   "cell_type": "code",
   "execution_count": null,
   "metadata": {},
   "outputs": [],
   "source": [
    "from genre import GENRE\n",
    "\n",
    "# loading model\n",
    "model = (\n",
    "    GENRE.from_pretrained(\"models/fairseq_entity_disambiguation_aidayago\")\n",
    "    .eval()\n",
    "    .to(\"cuda:0\")\n",
    ")"
   ]
  },
  {
   "cell_type": "code",
   "execution_count": null,
   "metadata": {},
   "outputs": [],
   "source": [
    "import pickle\n",
    "\n",
    "# loading trie from KILT titles\n",
    "with open(\"/checkpoint/fabiopetroni/GENRE/home/GeNeRe/__GENRE/data/kilt/trie.pkl\", \"rb\") as f:\n",
    "    trie = pickle.load(f)"
   ]
  },
  {
   "cell_type": "code",
   "execution_count": null,
   "metadata": {},
   "outputs": [],
   "source": [
    "def prefix_allowed_tokens_fn(batch_id, sent):\n",
    "    return trie.get(sent.tolist())\n",
    "\n",
    "model.sample(\n",
    "    [\" [START_ENT] London [END_ENT] is the capital of the UK.\"],\n",
    "    beam=5,\n",
    "    max_len_b=15,\n",
    "    prefix_allowed_tokens_fn=prefix_allowed_tokens_fn,\n",
    ")"
   ]
  },
  {
   "cell_type": "markdown",
   "metadata": {},
   "source": [
    "# Entity Disambiguation (huggingface transformers)"
   ]
  },
  {
   "cell_type": "code",
   "execution_count": null,
   "metadata": {},
   "outputs": [],
   "source": [
    "from transformers import BartForConditionalGeneration, BartTokenizer\n",
    "\n",
    "# loading tokenizer and model\n",
    "tokenizer = BartTokenizer.from_pretrained(\"models/hf_entity_disambiguation_aidayago\")\n",
    "model = (\n",
    "    BartForConditionalGeneration.from_pretrained(\"models/hf_entity_disambiguation_aidayago\")\n",
    "    .eval()\n",
    "    .to(\"cuda:0\")\n",
    ")"
   ]
  },
  {
   "cell_type": "code",
   "execution_count": null,
   "metadata": {},
   "outputs": [],
   "source": [
    "def prefix_allowed_tokens_fn(batch_tokens):\n",
    "    return [\n",
    "        [\n",
    "            trie.get(tokens.tolist())\n",
    "            for tokens in beam_tokens\n",
    "        ]\n",
    "        for beam_tokens in batch_tokens\n",
    "    ]\n",
    "\n",
    "input_args = {\n",
    "    k: v.to(model.device) for k, v in tokenizer.batch_encode_plus(\n",
    "        [\" [START_ENT] London [END_ENT] is the capital of the UK.\"],\n",
    "        return_tensors=\"pt\"\n",
    "    ).items()\n",
    "}\n",
    "\n",
    "tokenizer.batch_decode(\n",
    "    model.generate(\n",
    "        **input_args,\n",
    "        min_length=0,\n",
    "        num_beams=5,\n",
    "        prefix_allowed_tokens_fn=prefix_allowed_tokens_fn,\n",
    "    ),\n",
    "    skip_special_tokens=True\n",
    ")"
   ]
  },
  {
   "cell_type": "markdown",
   "metadata": {},
   "source": [
    "# ------ from this point on the code might not work: I am refactoring -----"
   ]
  },
  {
   "cell_type": "code",
   "execution_count": null,
   "metadata": {},
   "outputs": [],
   "source": [
    "model_dict = torch.load(\"checkpoint_blink.pt\")\n",
    "model_dict.pop(\"last_optimizer_state\")\n",
    "torch.save(model_dict, \"/private/home/ndecao/models/ed/checkpoint_blink.pt\")"
   ]
  },
  {
   "cell_type": "markdown",
   "metadata": {},
   "source": [
    "# Document Retieval"
   ]
  },
  {
   "cell_type": "code",
   "execution_count": null,
   "metadata": {},
   "outputs": [],
   "source": [
    "# loading model -- takes 5-20 sec\n",
    "model_path = \"models/kilt\"\n",
    "checkpoint_file = \"checkpoint.pt\"\n",
    "model = (\n",
    "    GENRE.from_pretrained(model_path, checkpoint_file=checkpoint_file)\n",
    "    .eval()\n",
    "    .to(\"cuda:0\")\n",
    ")"
   ]
  },
  {
   "cell_type": "code",
   "execution_count": null,
   "metadata": {},
   "outputs": [],
   "source": [
    "# No need to re-load the trie from above\n",
    "# also no need to re-define `prefix_allowed_tokens_fn`\n",
    "model.sample(\n",
    "    [\"Which US nuclear reactor hada major accident in 1979?\"],\n",
    "    beam=10,\n",
    "    max_len_b=15,\n",
    "    prefix_allowed_tokens_fn=prefix_allowed_tokens_fn,\n",
    ")"
   ]
  },
  {
   "cell_type": "markdown",
   "metadata": {},
   "source": [
    "# End-to-End Entity Linking"
   ]
  },
  {
   "cell_type": "code",
   "execution_count": null,
   "metadata": {},
   "outputs": [],
   "source": [
    "from genre.entity_linking_model import GeNeRe"
   ]
  },
  {
   "cell_type": "code",
   "execution_count": null,
   "metadata": {
    "scrolled": true
   },
   "outputs": [],
   "source": [
    "# loading model (there is some logging from the Kolitas code)\n",
    "# it takes 4-5 min to load (I will optimize it when I'm back - it can be reduced to half of it with some tricks)\n",
    "# I haven't refatored this yet so:\n",
    "# i) code is a mess (in `genre.entity_linking_model`)\n",
    "# ii) it is different class than the models above\n",
    "model = GeNeRe(\n",
    "    model_path='models/el',\n",
    "    checkpoint_file='checkpoint_aidayago.pt',\n",
    "    device=\"cuda:0\",\n",
    ")"
   ]
  },
  {
   "cell_type": "code",
   "execution_count": null,
   "metadata": {},
   "outputs": [],
   "source": [
    "# there is some logging\n",
    "sentence = \"London is the capital of the UK.\"\n",
    "spans = model.get_prediction(sentence)\n",
    "spans"
   ]
  },
  {
   "cell_type": "code",
   "execution_count": null,
   "metadata": {},
   "outputs": [],
   "source": [
    "model.get_markdown(sentence, spans)"
   ]
  },
  {
   "cell_type": "code",
   "execution_count": null,
   "metadata": {},
   "outputs": [],
   "source": []
  },
  {
   "cell_type": "markdown",
   "metadata": {},
   "source": [
    "# End-to-End Entity Linking v2"
   ]
  },
  {
   "cell_type": "code",
   "execution_count": null,
   "metadata": {},
   "outputs": [],
   "source": [
    "from genre.entity_linking_model_v2 import GENREForEndToEndEntityLinking"
   ]
  },
  {
   "cell_type": "code",
   "execution_count": null,
   "metadata": {},
   "outputs": [],
   "source": [
    "model = GENREForEndToEndEntityLinking.from_pretrained(\n",
    "    'models/el',\n",
    "    checkpoint_file='checkpoint_aidayago.pt',\n",
    "    device=\"cuda:0\",\n",
    "    mention_trie_file=\"data/el_v2/mention_trie.pkl\",\n",
    "    candidates_dict_file=\"data/el_v2/candidates_dict.pkl\",\n",
    ")"
   ]
  },
  {
   "cell_type": "code",
   "execution_count": null,
   "metadata": {
    "scrolled": true
   },
   "outputs": [],
   "source": [
    "model.sample(\n",
    "    [\" London is the capital of the UK.\"],\n",
    "    beam=6,\n",
    "    max_len_b=1024,\n",
    ")"
   ]
  },
  {
   "cell_type": "code",
   "execution_count": null,
   "metadata": {},
   "outputs": [],
   "source": []
  }
 ],
 "metadata": {
  "kernelspec": {
   "display_name": "Python 3",
   "language": "python",
   "name": "python3"
  },
  "language_info": {
   "codemirror_mode": {
    "name": "ipython",
    "version": 3
   },
   "file_extension": ".py",
   "mimetype": "text/x-python",
   "name": "python",
   "nbconvert_exporter": "python",
   "pygments_lexer": "ipython3",
   "version": "3.7.9"
  }
 },
 "nbformat": 4,
 "nbformat_minor": 4
}
