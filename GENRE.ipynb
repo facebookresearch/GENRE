{
 "cells": [
  {
   "cell_type": "code",
   "execution_count": 1,
   "metadata": {},
   "outputs": [],
   "source": [
    "%load_ext autoreload\n",
    "%autoreload 2"
   ]
  },
  {
   "cell_type": "code",
   "execution_count": 6,
   "metadata": {},
   "outputs": [],
   "source": [
    "import torch\n",
    "import pickle\n",
    "from genre.base_model import GENRE"
   ]
  },
  {
   "cell_type": "markdown",
   "metadata": {},
   "source": [
    "# Entity Disambiguation"
   ]
  },
  {
   "cell_type": "code",
   "execution_count": 3,
   "metadata": {},
   "outputs": [
    {
     "name": "stderr",
     "output_type": "stream",
     "text": [
      "/private/home/ndecao/.conda/envs/genre37/lib/python3.7/site-packages/hydra/_internal/hydra.py:71: UserWarning: \n",
      "@hydra.main(strict) flag is deprecated and will removed in the next version.\n",
      "See https://hydra.cc/docs/next/upgrades/0.11_to_1.0/strict_mode_flag_deprecated\n",
      "  warnings.warn(message=msg, category=UserWarning)\n"
     ]
    }
   ],
   "source": [
    "model_path = \"/checkpoint/fabiopetroni/GENRE/home/GeNeRe/__GENRE/models/ed\"\n",
    "checkpoint_file = \"checkpoint_aidayago.pt\"\n",
    "model = (\n",
    "    GENRE.from_pretrained(model_path, checkpoint_file=checkpoint_file)\n",
    "    .eval()\n",
    "    .to(\"cuda:0\")\n",
    ")"
   ]
  },
  {
   "cell_type": "code",
   "execution_count": 7,
   "metadata": {},
   "outputs": [],
   "source": [
    "# loading trie from KILT titles -- takes 1-2 min\n",
    "with open(\"/checkpoint/fabiopetroni/GENRE/home/GeNeRe/__GENRE/data/kilt/trie.pkl\", \"rb\") as f:\n",
    "    trie = pickle.load(f)"
   ]
  },
  {
   "cell_type": "code",
   "execution_count": 8,
   "metadata": {},
   "outputs": [
    {
     "data": {
      "text/plain": [
       "[[{'text': 'London', 'logprob': tensor(-0.0879, device='cuda:0')},\n",
       "  {'text': 'City of London', 'logprob': tensor(-2.0315, device='cuda:0')},\n",
       "  {'text': 'London, Ontario', 'logprob': tensor(-2.9399, device='cuda:0')},\n",
       "  {'text': 'Los Angeles', 'logprob': tensor(-3.1010, device='cuda:0')},\n",
       "  {'text': 'England', 'logprob': tensor(-4.2353, device='cuda:0')}]]"
      ]
     },
     "execution_count": 8,
     "metadata": {},
     "output_type": "execute_result"
    }
   ],
   "source": [
    "def prefix_allowed_tokens_fn(batch_id, sent):\n",
    "    return trie.get(sent.tolist())\n",
    "\n",
    "model.sample(\n",
    "    [\" [START_ENT] London [END_ENT] is the capital of the UK.\"],\n",
    "    beam=5,\n",
    "    max_len_b=15,\n",
    "    prefix_allowed_tokens_fn=prefix_allowed_tokens_fn,\n",
    ")"
   ]
  },
  {
   "cell_type": "markdown",
   "metadata": {},
   "source": [
    "# ------ from this point on the code might not work: I am refactoring -----"
   ]
  },
  {
   "cell_type": "markdown",
   "metadata": {},
   "source": [
    "# Document Retieval"
   ]
  },
  {
   "cell_type": "code",
   "execution_count": null,
   "metadata": {},
   "outputs": [],
   "source": [
    "# loading model -- takes 5-20 sec\n",
    "model_path = \"models/kilt\"\n",
    "checkpoint_file = \"checkpoint.pt\"\n",
    "model = (\n",
    "    GENRE.from_pretrained(model_path, checkpoint_file=checkpoint_file)\n",
    "    .eval()\n",
    "    .to(\"cuda:0\")\n",
    ")"
   ]
  },
  {
   "cell_type": "code",
   "execution_count": null,
   "metadata": {},
   "outputs": [],
   "source": [
    "# No need to re-load the trie from above\n",
    "# also no need to re-define `prefix_allowed_tokens_fn`\n",
    "model.sample(\n",
    "    [\"Which US nuclear reactor hada major accident in 1979?\"],\n",
    "    beam=10,\n",
    "    max_len_b=15,\n",
    "    prefix_allowed_tokens_fn=prefix_allowed_tokens_fn,\n",
    ")"
   ]
  },
  {
   "cell_type": "markdown",
   "metadata": {},
   "source": [
    "# End-to-End Entity Linking"
   ]
  },
  {
   "cell_type": "code",
   "execution_count": null,
   "metadata": {},
   "outputs": [],
   "source": [
    "from genre.entity_linking_model import GeNeRe"
   ]
  },
  {
   "cell_type": "code",
   "execution_count": null,
   "metadata": {
    "scrolled": true
   },
   "outputs": [],
   "source": [
    "# loading model (there is some logging from the Kolitas code)\n",
    "# it takes 4-5 min to load (I will optimize it when I'm back - it can be reduced to half of it with some tricks)\n",
    "# I haven't refatored this yet so:\n",
    "# i) code is a mess (in `genre.entity_linking_model`)\n",
    "# ii) it is different class than the models above\n",
    "model = GeNeRe(\n",
    "    model_path='models/el',\n",
    "    checkpoint_file='checkpoint_aidayago.pt',\n",
    "    device=\"cuda:0\",\n",
    ")"
   ]
  },
  {
   "cell_type": "code",
   "execution_count": null,
   "metadata": {},
   "outputs": [],
   "source": [
    "# there is some logging\n",
    "sentence = \"London is the capital of the UK.\"\n",
    "spans = model.get_prediction(sentence)\n",
    "spans"
   ]
  },
  {
   "cell_type": "code",
   "execution_count": null,
   "metadata": {},
   "outputs": [],
   "source": [
    "model.get_markdown(sentence, spans)"
   ]
  },
  {
   "cell_type": "code",
   "execution_count": null,
   "metadata": {},
   "outputs": [],
   "source": []
  },
  {
   "cell_type": "markdown",
   "metadata": {},
   "source": [
    "# End-to-End Entity Linking v2"
   ]
  },
  {
   "cell_type": "code",
   "execution_count": null,
   "metadata": {},
   "outputs": [],
   "source": [
    "from genre.entity_linking_model_v2 import GENREForEndToEndEntityLinking"
   ]
  },
  {
   "cell_type": "code",
   "execution_count": null,
   "metadata": {},
   "outputs": [],
   "source": [
    "model = GENREForEndToEndEntityLinking.from_pretrained(\n",
    "    'models/el',\n",
    "    checkpoint_file='checkpoint_aidayago.pt',\n",
    "    device=\"cuda:0\",\n",
    "    mention_trie_file=\"data/el_v2/mention_trie.pkl\",\n",
    "    candidates_dict_file=\"data/el_v2/candidates_dict.pkl\",\n",
    ")"
   ]
  },
  {
   "cell_type": "code",
   "execution_count": null,
   "metadata": {
    "scrolled": true
   },
   "outputs": [],
   "source": [
    "model.sample(\n",
    "    [\" London is the capital of the UK.\"],\n",
    "    beam=6,\n",
    "    max_len_b=1024,\n",
    ")"
   ]
  },
  {
   "cell_type": "code",
   "execution_count": null,
   "metadata": {},
   "outputs": [],
   "source": []
  }
 ],
 "metadata": {
  "kernelspec": {
   "display_name": "Python 3",
   "language": "python",
   "name": "python3"
  },
  "language_info": {
   "codemirror_mode": {
    "name": "ipython",
    "version": 3
   },
   "file_extension": ".py",
   "mimetype": "text/x-python",
   "name": "python",
   "nbconvert_exporter": "python",
   "pygments_lexer": "ipython3",
   "version": "3.7.9"
  }
 },
 "nbformat": 4,
 "nbformat_minor": 4
}
