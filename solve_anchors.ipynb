{
 "cells": [
  {
   "cell_type": "code",
   "execution_count": 1,
   "metadata": {},
   "outputs": [],
   "source": [
    "import requests\n",
    "import pickle\n",
    "import json\n",
    "from concurrent.futures import ThreadPoolExecutor\n",
    "from concurrent.futures import as_completed\n",
    "from urllib.parse import unquote\n",
    "from tqdm.auto import tqdm, trange\n",
    "from kilt.knowledge_source import KnowledgeSource"
   ]
  },
  {
   "cell_type": "code",
   "execution_count": 2,
   "metadata": {},
   "outputs": [],
   "source": [
    "ks = KnowledgeSource()\n",
    "\n",
    "with open(\"/checkpoint/fabiopetroni/GENRE/checkpoint/GeNeRe/data/id_title.json\") as f:\n",
    "    id2title = json.load(f)\n",
    "    title2id = {v: k for k, v in id2title.items()}"
   ]
  },
  {
   "cell_type": "code",
   "execution_count": 3,
   "metadata": {},
   "outputs": [],
   "source": [
    "def get_id_title(anchor, title2id):\n",
    "\n",
    "    if \"http\" in anchor:\n",
    "        return {\"wikipedia_title\": None, \"wikipedia_id\": None}\n",
    "\n",
    "    unquoted = unquote(anchor).split(\"#\")[0].replace(\"_\", \" \")\n",
    "    if unquoted == \"\":\n",
    "        return {\"wikipedia_title\": None, \"wikipedia_id\": None}\n",
    "\n",
    "    unquoted = unquoted[0].upper() + unquoted[1:]\n",
    "\n",
    "    if unquoted in title2id:\n",
    "        wikipedia_title = unquoted\n",
    "        wikipedia_id = title2id[unquoted]\n",
    "        return {\"wikipedia_title\": wikipedia_title, \"wikipedia_id\": wikipedia_id}\n",
    "    else:\n",
    "        wikipedia_title = requests.head(\"https://en.wikipedia.org/wiki/{}\".format(a),\n",
    "                                        allow_redirects=True).url.split(\"/\")[-1].split(\"#\")[0].replace(\"_\", \" \")\n",
    "        if wikipedia_title is not None:\n",
    "            wikipedia_id = title2id.get(wikipedia_title, None)\n",
    "            if wikipedia_id is not None:\n",
    "                return {\n",
    "                    \"wikipedia_title\": wikipedia_title,\n",
    "                    \"wikipedia_id\": wikipedia_id,\n",
    "                }\n",
    "\n",
    "    return {\"wikipedia_title\": None, \"wikipedia_id\": None}"
   ]
  },
  {
   "cell_type": "code",
   "execution_count": null,
   "metadata": {},
   "outputs": [],
   "source": []
  },
  {
   "cell_type": "code",
   "execution_count": null,
   "metadata": {},
   "outputs": [
    {
     "data": {
      "application/vnd.jupyter.widget-view+json": {
       "model_id": "07371ca4e7d54b43a60f56503ca1b2e9",
       "version_major": 2,
       "version_minor": 0
      },
      "text/plain": [
       "HBox(children=(HTML(value=''), FloatProgress(value=0.0, max=5903530.0), HTML(value='')))"
      ]
     },
     "metadata": {},
     "output_type": "display_data"
    }
   ],
   "source": [
    "anchors = []\n",
    "iter_ = tqdm(ks.get_all_pages_cursor(), total=ks.get_num_pages())\n",
    "for page in iter_:\n",
    "    anchors += [a['href'] for a in page[\"anchors\"]]\n",
    "    iter_.set_postfix(anchors=len(anchors), refresh=False)"
   ]
  },
  {
   "cell_type": "code",
   "execution_count": null,
   "metadata": {},
   "outputs": [],
   "source": [
    "anchors = set(anchors)"
   ]
  },
  {
   "cell_type": "code",
   "execution_count": null,
   "metadata": {},
   "outputs": [],
   "source": [
    "len(anchors)"
   ]
  },
  {
   "cell_type": "code",
   "execution_count": null,
   "metadata": {},
   "outputs": [],
   "source": [
    "with open(\"all_kilt_anchors.pkl\", \"wb\") as f:\n",
    "    pickle.dump(anchors, f)"
   ]
  },
  {
   "cell_type": "code",
   "execution_count": null,
   "metadata": {},
   "outputs": [],
   "source": []
  },
  {
   "cell_type": "code",
   "execution_count": null,
   "metadata": {},
   "outputs": [],
   "source": [
    "num_threads = 32\n",
    "with ThreadPoolExecutor(max_workers=num_threads) as executor:\n",
    "\n",
    "    futures = {\n",
    "        executor.submit(get_id_title, anchor, title2id): anchor\n",
    "        for anchor in anchors\n",
    "    }\n",
    "\n",
    "    iter_ = tqdm(as_completed(futures), total=len(futures))\n",
    "    results = {futures[future]: future.result() for future in iter_}"
   ]
  },
  {
   "cell_type": "code",
   "execution_count": null,
   "metadata": {},
   "outputs": [],
   "source": []
  },
  {
   "cell_type": "code",
   "execution_count": null,
   "metadata": {},
   "outputs": [],
   "source": []
  }
 ],
 "metadata": {
  "kernelspec": {
   "display_name": "Python 3",
   "language": "python",
   "name": "python3"
  },
  "language_info": {
   "codemirror_mode": {
    "name": "ipython",
    "version": 3
   },
   "file_extension": ".py",
   "mimetype": "text/x-python",
   "name": "python",
   "nbconvert_exporter": "python",
   "pygments_lexer": "ipython3",
   "version": "3.7.9"
  }
 },
 "nbformat": 4,
 "nbformat_minor": 4
}
