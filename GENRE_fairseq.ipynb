{
 "cells": [
  {
   "cell_type": "code",
   "execution_count": null,
   "metadata": {},
   "outputs": [],
   "source": [
    "%load_ext autoreload\n",
    "%autoreload 2"
   ]
  },
  {
   "cell_type": "code",
   "execution_count": null,
   "metadata": {},
   "outputs": [],
   "source": [
    "import pickle\n",
    "from genre import GENRE\n",
    "from genre.trie import Trie\n",
    "from genre.entity_linking import get_end_to_end_prefix_allowed_tokens_fn_fariseq"
   ]
  },
  {
   "cell_type": "code",
   "execution_count": null,
   "metadata": {},
   "outputs": [],
   "source": [
    "import fairseq\n",
    "fairseq.__file__"
   ]
  },
  {
   "cell_type": "code",
   "execution_count": null,
   "metadata": {},
   "outputs": [],
   "source": [
    "# loading trie from KILT Wikipedia titles\n",
    "with open(\"data/kilt_titles_trie.pkl\", \"rb\") as f:\n",
    "    trie = pickle.load(f)\n",
    "    \n",
    "# defining the funciton to apply the constraints with the entities trie\n",
    "def prefix_allowed_tokens_fn(batch_id, sent):\n",
    "    return trie.get(sent.tolist())"
   ]
  },
  {
   "cell_type": "code",
   "execution_count": null,
   "metadata": {},
   "outputs": [],
   "source": []
  },
  {
   "cell_type": "code",
   "execution_count": null,
   "metadata": {},
   "outputs": [],
   "source": []
  },
  {
   "cell_type": "markdown",
   "metadata": {},
   "source": [
    "# Entity Disambiguation"
   ]
  },
  {
   "cell_type": "code",
   "execution_count": null,
   "metadata": {},
   "outputs": [],
   "source": [
    "# loading model\n",
    "model = (\n",
    "    GENRE.from_pretrained(\"models/fairseq_entity_disambiguation_aidayago\")\n",
    "    .eval()\n",
    "    .to(\"cpu:0\")\n",
    ")"
   ]
  },
  {
   "cell_type": "code",
   "execution_count": null,
   "metadata": {},
   "outputs": [],
   "source": [
    "# create inputs\n",
    "sentences = [\" [START_ENT] London [END_ENT] is the capital of the UK.\"]\n",
    "\n",
    "# generating from the model\n",
    "model.sample(\n",
    "    sentences,\n",
    "    prefix_allowed_tokens_fn=prefix_allowed_tokens_fn,\n",
    ")"
   ]
  },
  {
   "cell_type": "code",
   "execution_count": null,
   "metadata": {},
   "outputs": [],
   "source": []
  },
  {
   "cell_type": "code",
   "execution_count": null,
   "metadata": {},
   "outputs": [],
   "source": [
    "import blink.main_dense as main_dense\n",
    "import argparse\n",
    "import logging\n",
    "\n",
    "models_path = \"/private/home/ndecao/BLINK/models/\" # the path where you stored the BLINK models\n",
    "\n",
    "config = {\n",
    "    \"test_entities\": None,\n",
    "    \"test_mentions\": None,\n",
    "    \"interactive\": False,\n",
    "    \"biencoder_model\": models_path+\"biencoder_wiki_large.bin\",\n",
    "    \"biencoder_config\": models_path+\"biencoder_wiki_large.json\",\n",
    "    \"entity_catalogue\": models_path+\"entity.jsonl\",\n",
    "    \"entity_encoding\": models_path+\"all_entities_large.t7\",\n",
    "    \"crossencoder_model\": models_path+\"crossencoder_wiki_large.bin\",\n",
    "    \"crossencoder_config\": models_path+\"crossencoder_wiki_large.json\",\n",
    "    \"fast\": True, # set this to be true if speed is a concern\n",
    "    \"output_path\": \"logs/\", # logging directory\n",
    "    \"faiss_index\": None,\n",
    "    \"index_path\": None,\n",
    "    \"top_k\": 100,\n",
    "}\n",
    "\n",
    "args = argparse.Namespace(**config)\n",
    "\n",
    "models = main_dense.load_models(args, logger=None)"
   ]
  },
  {
   "cell_type": "code",
   "execution_count": null,
   "metadata": {},
   "outputs": [],
   "source": [
    "args = argparse.Namespace(**{**config, **models[1]})"
   ]
  },
  {
   "cell_type": "code",
   "execution_count": null,
   "metadata": {},
   "outputs": [],
   "source": [
    "data_to_link = [{\n",
    "    \"id\": d[\"id\"],\n",
    "    \"label\": \"unknown\",\n",
    "    \"label_id\": -1,\n",
    "    \"context_left\": d[\"meta\"][\"right_context\"].lower(),\n",
    "    \"mention\": d[\"meta\"][\"mention\"].lower(),\n",
    "    \"context_right\": d[\"meta\"][\"left_context\"].lower(),\n",
    "} for d in dataset_gold[:100]]"
   ]
  },
  {
   "cell_type": "code",
   "execution_count": null,
   "metadata": {},
   "outputs": [],
   "source": [
    "args.top_k = 100\n",
    "models[1][\"top_k\"] = 100"
   ]
  },
  {
   "cell_type": "code",
   "execution_count": null,
   "metadata": {},
   "outputs": [],
   "source": [
    "%%timeit -r 5 -n 1\n",
    "main_dense.run(args, logging, *models, test_data=data_to_link)"
   ]
  },
  {
   "cell_type": "code",
   "execution_count": null,
   "metadata": {
    "scrolled": true
   },
   "outputs": [],
   "source": [
    "args.__dict__, models[1]"
   ]
  },
  {
   "cell_type": "code",
   "execution_count": null,
   "metadata": {},
   "outputs": [],
   "source": [
    "from genre.utils import chunk_it, create_input\n",
    "from tqdm.auto import tqdm"
   ]
  },
  {
   "cell_type": "code",
   "execution_count": null,
   "metadata": {},
   "outputs": [],
   "source": [
    "data_to_link = [create_input(d, max_length=128) for d in dataset_gold[:100]]"
   ]
  },
  {
   "cell_type": "code",
   "execution_count": null,
   "metadata": {},
   "outputs": [],
   "source": [
    "%%timeit -r 5 -n 1\n",
    "for e in tqdm(chunk_it(data_to_link, 10)):\n",
    "    model.sample(\n",
    "        e,\n",
    "        max_len_b=15,\n",
    "        prefix_allowed_tokens_fn=prefix_allowed_tokens_fn,\n",
    "    )\n",
    "#  45s CPU / 10s GPU"
   ]
  },
  {
   "cell_type": "code",
   "execution_count": null,
   "metadata": {},
   "outputs": [],
   "source": [
    "model = model.to(\"cpu:0\")"
   ]
  },
  {
   "cell_type": "code",
   "execution_count": null,
   "metadata": {},
   "outputs": [],
   "source": [
    "import jsonlines\n",
    "import pickle\n",
    "\n",
    "with jsonlines.open(\"/private/home/ndecao/KILT/data/aidayago2-dev-kilt.jsonl\") as f:\n",
    "    dataset_gold = [e for e in f]"
   ]
  },
  {
   "cell_type": "code",
   "execution_count": null,
   "metadata": {},
   "outputs": [],
   "source": []
  },
  {
   "cell_type": "markdown",
   "metadata": {},
   "source": [
    "# Document Retieval"
   ]
  },
  {
   "cell_type": "code",
   "execution_count": null,
   "metadata": {},
   "outputs": [],
   "source": [
    "# loading model\n",
    "model = (\n",
    "    GENRE.from_pretrained(\"models/fairseq_wikipage_retrieval\")\n",
    "    .eval()\n",
    "    .to(\"cuda:0\")\n",
    ")"
   ]
  },
  {
   "cell_type": "code",
   "execution_count": null,
   "metadata": {},
   "outputs": [],
   "source": [
    "# create inputs\n",
    "sentences = [\"Stripes had Conrad Dunn featured in it\"]\n",
    "\n",
    "# generating from the model\n",
    "model.sample(\n",
    "    sentences,\n",
    "#     prefix_allowed_tokens_fn=prefix_allowed_tokens_fn,\n",
    ")"
   ]
  },
  {
   "cell_type": "markdown",
   "metadata": {},
   "source": [
    "# End-to-End Entity Linking"
   ]
  },
  {
   "cell_type": "code",
   "execution_count": null,
   "metadata": {},
   "outputs": [],
   "source": [
    "# loading model\n",
    "model = (\n",
    "    GENRE.from_pretrained(\"models/fairseq_e2e_entity_linking_wiki_abs\")\n",
    "    .eval()\n",
    "    .to(\"cuda:0\")\n",
    ")"
   ]
  },
  {
   "cell_type": "code",
   "execution_count": null,
   "metadata": {},
   "outputs": [],
   "source": [
    "# create inputs\n",
    "sentences = [\" London is the capital of the UK \"]\n",
    "\n",
    "# no constrains on mention and candidates\n",
    "prefix_allowed_tokens_fn = get_end_to_end_prefix_allowed_tokens_fn_fariseq(model, sentences)\n",
    "\n",
    "# generating from the model\n",
    "model.sample(\n",
    "    sentences,\n",
    "    prefix_allowed_tokens_fn=prefix_allowed_tokens_fn,\n",
    ")"
   ]
  },
  {
   "cell_type": "code",
   "execution_count": null,
   "metadata": {},
   "outputs": [],
   "source": [
    "# constraining the mentions with a prefix tree - no constrains on candidates\n",
    "prefix_allowed_tokens_fn = get_end_to_end_prefix_allowed_tokens_fn_fariseq(\n",
    "    model,\n",
    "    sentences,\n",
    "    mention_trie=Trie([\n",
    "        model.encode(e).tolist()[1:]\n",
    "        for e in [\" London\"]\n",
    "    ])\n",
    ")\n",
    "\n",
    "# generating from the model\n",
    "model.sample(\n",
    "    sentences,\n",
    "    prefix_allowed_tokens_fn=prefix_allowed_tokens_fn,\n",
    ")"
   ]
  },
  {
   "cell_type": "code",
   "execution_count": null,
   "metadata": {},
   "outputs": [],
   "source": [
    "# constraining the candidate sets given a mention\n",
    "prefix_allowed_tokens_fn = get_end_to_end_prefix_allowed_tokens_fn_fariseq(\n",
    "    model,\n",
    "    sentences,\n",
    "    mention_to_candidates_dict={\n",
    "        \"London\": [\"London\"],\n",
    "        \"UK\": [\"UK\"],\n",
    "    }\n",
    ")\n",
    "\n",
    "# generating from the model\n",
    "model.sample(\n",
    "    sentences,\n",
    "    prefix_allowed_tokens_fn=prefix_allowed_tokens_fn,\n",
    ")"
   ]
  },
  {
   "cell_type": "code",
   "execution_count": null,
   "metadata": {},
   "outputs": [],
   "source": [
    "# constraining the candidates with a prefix tree - no constrains on mentions\n",
    "prefix_allowed_tokens_fn = get_end_to_end_prefix_allowed_tokens_fn_fariseq(\n",
    "    model,\n",
    "    sentences,\n",
    "    mention_trie=mention_trie,\n",
    ")\n",
    "\n",
    "# generating from the model\n",
    "model.sample(\n",
    "    sentences,\n",
    "    prefix_allowed_tokens_fn=prefix_allowed_tokens_fn,\n",
    ")"
   ]
  },
  {
   "cell_type": "code",
   "execution_count": null,
   "metadata": {},
   "outputs": [],
   "source": [
    "import tqdm"
   ]
  },
  {
   "cell_type": "code",
   "execution_count": null,
   "metadata": {},
   "outputs": [],
   "source": [
    "tqdm.__version__"
   ]
  },
  {
   "cell_type": "code",
   "execution_count": null,
   "metadata": {},
   "outputs": [],
   "source": []
  },
  {
   "cell_type": "code",
   "execution_count": null,
   "metadata": {},
   "outputs": [],
   "source": []
  },
  {
   "cell_type": "code",
   "execution_count": null,
   "metadata": {},
   "outputs": [],
   "source": [
    "print(\"Loading model\")\n",
    "model = (\n",
    "    GENRE.from_pretrained(\"models/fairseq_e2e_entity_linking_wiki_abs\")\n",
    "    .eval()\n",
    "    .to(\"cuda:0\")\n",
    ")"
   ]
  },
  {
   "cell_type": "code",
   "execution_count": null,
   "metadata": {},
   "outputs": [],
   "source": [
    "print(\"Loading mention_to_candidates_dict\")\n",
    "with open(\"data/mention_to_candidates_dict_gerbil.pkl\", \"rb\") as f:\n",
    "    mention_to_candidates_dict = pickle.load(f)"
   ]
  },
  {
   "cell_type": "code",
   "execution_count": null,
   "metadata": {},
   "outputs": [],
   "source": [
    "print(\"Loading mention_trie\")\n",
    "with open(\"data/mention_trie_gerbil.pkl\", \"rb\") as f:\n",
    "    mention_trie = pickle.load(f)"
   ]
  },
  {
   "cell_type": "code",
   "execution_count": null,
   "metadata": {
    "scrolled": true
   },
   "outputs": [],
   "source": [
    "mention_to_candidates_dict[\"Obama\"]"
   ]
  },
  {
   "cell_type": "code",
   "execution_count": null,
   "metadata": {},
   "outputs": [],
   "source": [
    "l = [float(e) for e in \"90.8 & 93.3 & 89.8 & 90.9 & 76.0 & 87.5\".split(\"&\")]\n",
    "sum(l) / len(l), len(l)"
   ]
  },
  {
   "cell_type": "code",
   "execution_count": null,
   "metadata": {},
   "outputs": [],
   "source": [
    "new_mention_trie = Trie([])"
   ]
  },
  {
   "cell_type": "code",
   "execution_count": null,
   "metadata": {},
   "outputs": [],
   "source": [
    "def set_trie(t_i, t_o, depth=0):\n",
    "    for l, subt in (tqdm(t_i._leaves.items()) if depth == 0 else t_i._leaves.items()):\n",
    "        t_o._leaves[l] = Trie([])\n",
    "        set_trie(subt, t_o._leaves[l], depth=depth+1)"
   ]
  },
  {
   "cell_type": "code",
   "execution_count": null,
   "metadata": {},
   "outputs": [],
   "source": [
    "set_trie(mention_trie, new_mention_trie)"
   ]
  },
  {
   "cell_type": "code",
   "execution_count": null,
   "metadata": {},
   "outputs": [],
   "source": [
    "from tqdm.auto import tqdm"
   ]
  },
  {
   "cell_type": "code",
   "execution_count": null,
   "metadata": {},
   "outputs": [],
   "source": [
    "mention_trie._leaves[23084]._leaves[534]._leaves[2]._leaves"
   ]
  },
  {
   "cell_type": "code",
   "execution_count": null,
   "metadata": {},
   "outputs": [],
   "source": [
    "new_mention_trie._leaves[23084]._leaves[534]._leaves[2]._leaves"
   ]
  },
  {
   "cell_type": "code",
   "execution_count": null,
   "metadata": {},
   "outputs": [],
   "source": [
    "with open(\"data/mention_trie_gerbil.pkl\", \"wb\") as f:\n",
    "    pickle.dump(new_mention_trie, f)"
   ]
  },
  {
   "cell_type": "code",
   "execution_count": null,
   "metadata": {},
   "outputs": [],
   "source": [
    "with open(\"data/wiki_redirects.txt\") as f:\n",
    "    wiki_redirects = f.readlines()"
   ]
  },
  {
   "cell_type": "code",
   "execution_count": null,
   "metadata": {},
   "outputs": [],
   "source": [
    "wiki_redirects = [\n",
    "    line.strip().split(\"\\t\")\n",
    "    for line in tqdm(wiki_redirects)\n",
    "]"
   ]
  },
  {
   "cell_type": "code",
   "execution_count": null,
   "metadata": {},
   "outputs": [],
   "source": [
    "from tqdm.auto import tqdm"
   ]
  },
  {
   "cell_type": "code",
   "execution_count": null,
   "metadata": {},
   "outputs": [],
   "source": [
    "wiki_redirects = load_redirections()"
   ]
  },
  {
   "cell_type": "code",
   "execution_count": null,
   "metadata": {},
   "outputs": [],
   "source": [
    "len(wiki_redirects)"
   ]
  },
  {
   "cell_type": "code",
   "execution_count": null,
   "metadata": {},
   "outputs": [],
   "source": []
  },
  {
   "cell_type": "code",
   "execution_count": null,
   "metadata": {},
   "outputs": [],
   "source": []
  }
 ],
 "metadata": {
  "kernelspec": {
   "display_name": "Python 3",
   "language": "python",
   "name": "python3"
  },
  "language_info": {
   "codemirror_mode": {
    "name": "ipython",
    "version": 3
   },
   "file_extension": ".py",
   "mimetype": "text/x-python",
   "name": "python",
   "nbconvert_exporter": "python",
   "pygments_lexer": "ipython3",
   "version": "3.7.9"
  }
 },
 "nbformat": 4,
 "nbformat_minor": 4
}
