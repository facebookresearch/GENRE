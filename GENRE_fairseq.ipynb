{
 "cells": [
  {
   "cell_type": "code",
   "execution_count": null,
   "metadata": {},
   "outputs": [],
   "source": [
    "%load_ext autoreload\n",
    "%autoreload 2"
   ]
  },
  {
   "cell_type": "code",
   "execution_count": null,
   "metadata": {},
   "outputs": [],
   "source": [
    "import pickle\n",
    "from genre import GENRE\n",
    "from genre.trie import Trie\n",
    "from genre.entity_linking import get_end_to_end_prefix_allowed_tokens_fn_fariseq"
   ]
  },
  {
   "cell_type": "code",
   "execution_count": null,
   "metadata": {},
   "outputs": [],
   "source": [
    "# loading trie from KILT Wikipedia titles\n",
    "with open(\"data/kilt_titles_trie.pkl\", \"rb\") as f:\n",
    "    trie = pickle.load(f)\n",
    "    \n",
    "# defining the funciton to apply the constraints with the entities trie\n",
    "def prefix_allowed_tokens_fn(batch_id, sent):\n",
    "    return trie.get(sent.tolist())"
   ]
  },
  {
   "cell_type": "markdown",
   "metadata": {},
   "source": [
    "# Entity Disambiguation"
   ]
  },
  {
   "cell_type": "code",
   "execution_count": null,
   "metadata": {},
   "outputs": [],
   "source": [
    "# loading model\n",
    "model = (\n",
    "    GENRE.from_pretrained(\"models/fairseq_entity_disambiguation_aidayago\")\n",
    "    .eval()\n",
    "    .to(\"cuda:0\")\n",
    ")"
   ]
  },
  {
   "cell_type": "code",
   "execution_count": null,
   "metadata": {},
   "outputs": [],
   "source": [
    "# create inputs\n",
    "sentences = [\" [START_ENT] London [END_ENT] is the capital of the UK.\"]\n",
    "\n",
    "# generating from the model\n",
    "model.sample(\n",
    "    sentences,\n",
    "    prefix_allowed_tokens_fn=prefix_allowed_tokens_fn,\n",
    ")"
   ]
  },
  {
   "cell_type": "markdown",
   "metadata": {},
   "source": [
    "# Document Retieval"
   ]
  },
  {
   "cell_type": "code",
   "execution_count": null,
   "metadata": {},
   "outputs": [],
   "source": [
    "# loading model\n",
    "model = (\n",
    "    GENRE.from_pretrained(\"models/fairseq_wikipage_retrieval\")\n",
    "    .eval()\n",
    "    .to(\"cuda:0\")\n",
    ")"
   ]
  },
  {
   "cell_type": "code",
   "execution_count": null,
   "metadata": {},
   "outputs": [],
   "source": [
    "# create inputs\n",
    "sentences = [\"Stripes had Conrad Dunn featured in it\"]\n",
    "\n",
    "# generating from the model\n",
    "model.sample(\n",
    "    sentences,\n",
    "#     prefix_allowed_tokens_fn=prefix_allowed_tokens_fn,\n",
    ")"
   ]
  },
  {
   "cell_type": "markdown",
   "metadata": {},
   "source": [
    "# End-to-End Entity Linking"
   ]
  },
  {
   "cell_type": "code",
   "execution_count": null,
   "metadata": {},
   "outputs": [],
   "source": [
    "# loading model\n",
    "model = (\n",
    "    GENRE.from_pretrained(\"models/fairseq_e2e_entity_linking_wiki_abs\")\n",
    "    .eval()\n",
    "    .to(\"cuda:0\")\n",
    ")"
   ]
  },
  {
   "cell_type": "code",
   "execution_count": null,
   "metadata": {},
   "outputs": [],
   "source": [
    "# create inputs\n",
    "sentences = [\" London is the capital of the UK \"]\n",
    "\n",
    "# no constrains on mention and candidates\n",
    "prefix_allowed_tokens_fn = get_end_to_end_prefix_allowed_tokens_fn_fariseq(model, sentences)\n",
    "\n",
    "# generating from the model\n",
    "model.sample(\n",
    "    sentences,\n",
    "    prefix_allowed_tokens_fn=prefix_allowed_tokens_fn,\n",
    ")"
   ]
  },
  {
   "cell_type": "code",
   "execution_count": null,
   "metadata": {},
   "outputs": [],
   "source": [
    "# constraining the mentions with a prefix tree - no constrains on candidates\n",
    "prefix_allowed_tokens_fn = get_end_to_end_prefix_allowed_tokens_fn_fariseq(\n",
    "    model,\n",
    "    sentences,\n",
    "    mention_trie=Trie([\n",
    "        model.encode(e).tolist()[1:]\n",
    "        for e in [\" London\"]\n",
    "    ])\n",
    ")\n",
    "\n",
    "# generating from the model\n",
    "model.sample(\n",
    "    sentences,\n",
    "    prefix_allowed_tokens_fn=prefix_allowed_tokens_fn,\n",
    ")"
   ]
  },
  {
   "cell_type": "code",
   "execution_count": null,
   "metadata": {},
   "outputs": [],
   "source": [
    "# constraining the candidate sets given a mention\n",
    "prefix_allowed_tokens_fn = get_end_to_end_prefix_allowed_tokens_fn_fariseq(\n",
    "    model,\n",
    "    sentences,\n",
    "    mention_to_candidates_dict={\n",
    "        \"London\": [\"London\"],\n",
    "        \"UK\": [\"UK\"],\n",
    "    }\n",
    ")\n",
    "\n",
    "# generating from the model\n",
    "model.sample(\n",
    "    sentences,\n",
    "    prefix_allowed_tokens_fn=prefix_allowed_tokens_fn,\n",
    ")"
   ]
  },
  {
   "cell_type": "code",
   "execution_count": null,
   "metadata": {},
   "outputs": [],
   "source": [
    "# constraining the candidates with a prefix tree - no constrains on mentions\n",
    "prefix_allowed_tokens_fn = get_end_to_end_prefix_allowed_tokens_fn_fariseq(\n",
    "    model,\n",
    "    sentences,\n",
    "    mention_trie=mention_trie,\n",
    ")\n",
    "\n",
    "# generating from the model\n",
    "model.sample(\n",
    "    sentences,\n",
    "    prefix_allowed_tokens_fn=prefix_allowed_tokens_fn,\n",
    ")"
   ]
  },
  {
   "cell_type": "code",
   "execution_count": null,
   "metadata": {},
   "outputs": [],
   "source": []
  },
  {
   "cell_type": "code",
   "execution_count": null,
   "metadata": {},
   "outputs": [],
   "source": [
    "from genre.utils import get_entity_spans_fairseq"
   ]
  },
  {
   "cell_type": "code",
   "execution_count": null,
   "metadata": {},
   "outputs": [],
   "source": [
    "sentences = [\"London is the capital of the UK\"]"
   ]
  },
  {
   "cell_type": "code",
   "execution_count": null,
   "metadata": {},
   "outputs": [],
   "source": [
    "get_entity_spans_fairseq(model, sentences)"
   ]
  },
  {
   "cell_type": "code",
   "execution_count": null,
   "metadata": {},
   "outputs": [],
   "source": [
    "import requests"
   ]
  },
  {
   "cell_type": "code",
   "execution_count": null,
   "metadata": {},
   "outputs": [],
   "source": [
    "res = requests.post(\n",
    "    \"http://localhost:55555/\",\n",
    "    data=\"{ \\\"text\\\": \\\"Obama will visit Germany and have a meeting with Merkel tomorrow.\\\" , \\\"spans\\\": []}\"\n",
    ")"
   ]
  },
  {
   "cell_type": "code",
   "execution_count": null,
   "metadata": {},
   "outputs": [],
   "source": [
    "res.__dict__"
   ]
  }
 ],
 "metadata": {
  "kernelspec": {
   "display_name": "Python 3",
   "language": "python",
   "name": "python3"
  },
  "language_info": {
   "codemirror_mode": {
    "name": "ipython",
    "version": 3
   },
   "file_extension": ".py",
   "mimetype": "text/x-python",
   "name": "python",
   "nbconvert_exporter": "python",
   "pygments_lexer": "ipython3",
   "version": "3.7.9"
  }
 },
 "nbformat": 4,
 "nbformat_minor": 4
}
