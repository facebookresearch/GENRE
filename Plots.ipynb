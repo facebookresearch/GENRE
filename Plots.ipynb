{
 "cells": [
  {
   "cell_type": "code",
   "execution_count": null,
   "metadata": {},
   "outputs": [],
   "source": [
    "import argparse\n",
    "import json\n",
    "import pickle\n",
    "import time\n",
    "from collections import defaultdict\n",
    "from concurrent.futures import ThreadPoolExecutor, as_completed\n",
    "from urllib.parse import unquote\n",
    "\n",
    "import requests\n",
    "from kilt.knowledge_source import KnowledgeSource\n",
    "from tqdm.auto import tqdm, trange\n",
    "from datetime import date, timedelta, datetime\n",
    "import requests\n",
    "import gzip"
   ]
  },
  {
   "cell_type": "code",
   "execution_count": null,
   "metadata": {},
   "outputs": [],
   "source": [
    "def get_response(url):\n",
    "    try:\n",
    "        res = requests.get(url)\n",
    "        res = gzip.decompress(res.content).decode(\"utf-8\")\n",
    "        res = [line.split(\" \") for line in res.split(\"\\n\")]\n",
    "        res = {line[1]: line[2] for line in res if line[0] == \"en\"}\n",
    "    except:\n",
    "        print(url)\n",
    "    return res"
   ]
  },
  {
   "cell_type": "code",
   "execution_count": null,
   "metadata": {},
   "outputs": [],
   "source": [
    "num_threads = 4\n",
    "with ThreadPoolExecutor(max_workers=num_threads) as executor:\n",
    "\n",
    "    start_date = datetime(2019, 1, 1, 0, 0)\n",
    "    end_date = datetime(2019, 1, 2, 0, 0)\n",
    "    delta = timedelta(hours=1)\n",
    "    futures = {}\n",
    "    while start_date <= end_date:\n",
    "        url = \"https://dumps.wikimedia.org/other/pageviews/2019/{}/pageviews-{}.gz\".format(\n",
    "            start_date.strftime(\"%Y-%m\"), start_date.strftime(\"%Y%m%d-%H%M%S\")\n",
    "        )\n",
    "        futures[executor.submit(get_response, url)] = start_date\n",
    "        start_date += delta\n",
    "\n",
    "    iter_ = tqdm(as_completed(futures), total=len(futures), smoothing=0)\n",
    "    results = {futures[future]: future.result() for future in iter_}"
   ]
  },
  {
   "cell_type": "code",
   "execution_count": null,
   "metadata": {},
   "outputs": [],
   "source": []
  },
  {
   "cell_type": "code",
   "execution_count": null,
   "metadata": {},
   "outputs": [],
   "source": [
    "import torch"
   ]
  },
  {
   "cell_type": "code",
   "execution_count": null,
   "metadata": {},
   "outputs": [],
   "source": []
  },
  {
   "cell_type": "code",
   "execution_count": null,
   "metadata": {},
   "outputs": [],
   "source": [
    "start_date = datetime(2018, 9, 1, 0, 0)\n",
    "end_date = datetime(2018, 11, 1, 0, 0)\n",
    "commands = []\n",
    "while start_date <= end_date:\n",
    "    commands.append(\n",
    "        \"wget https://dumps.wikimedia.org/other/pageviews/{}/{}/pageviews-{}.gz\\n\".format(\n",
    "            start_date.strftime(\"%Y\"), start_date.strftime(\"%Y-%m\"), start_date.strftime(\"%Y%m%d-%H%M%S\")\n",
    "        )\n",
    "    )\n",
    "    start_date += timedelta(hours=torch.randint(1, 48, ()).item())"
   ]
  },
  {
   "cell_type": "code",
   "execution_count": null,
   "metadata": {},
   "outputs": [],
   "source": [
    "with open(\"../pageviews/get.sh\", \"w\") as f:\n",
    "    f.writelines(commands)"
   ]
  },
  {
   "cell_type": "code",
   "execution_count": null,
   "metadata": {},
   "outputs": [],
   "source": [
    "len(os.listdir(\"../pageviews\"))"
   ]
  },
  {
   "cell_type": "code",
   "execution_count": null,
   "metadata": {},
   "outputs": [],
   "source": [
    "import os"
   ]
  },
  {
   "cell_type": "code",
   "execution_count": null,
   "metadata": {},
   "outputs": [],
   "source": [
    "all_stats = defaultdict(int)\n",
    "for e in tqdm(os.listdir(\"../pageviews\")):\n",
    "    if \".gz\" in e:\n",
    "        \n",
    "        with gzip.open('../pageviews/{}'.format(e), 'rb') as f:\n",
    "            res = f.read().decode(\"utf-8\")\n",
    "        \n",
    "        res = [line.split(\" \") for line in res.split(\"\\n\")]\n",
    "        res = {line[1]: line[2] for line in res if line[0] == \"en\"}\n",
    "        \n",
    "        for k, v in res.items():\n",
    "            all_stats[k] += int(v)"
   ]
  },
  {
   "cell_type": "code",
   "execution_count": null,
   "metadata": {},
   "outputs": [],
   "source": [
    "with open(\"../pageviews/all_stats.pkl\", \"wb\") as f:\n",
    "    pickle.dump(all_stats, f)"
   ]
  },
  {
   "cell_type": "code",
   "execution_count": null,
   "metadata": {},
   "outputs": [],
   "source": []
  },
  {
   "cell_type": "code",
   "execution_count": null,
   "metadata": {},
   "outputs": [],
   "source": [
    "import matplotlib.pyplot as plt"
   ]
  },
  {
   "cell_type": "code",
   "execution_count": null,
   "metadata": {},
   "outputs": [],
   "source": [
    "all_stats_list = sorted(all_stats.items(), key=lambda x: x[1], reverse=True)"
   ]
  },
  {
   "cell_type": "code",
   "execution_count": null,
   "metadata": {},
   "outputs": [],
   "source": [
    "plt.plot([math.log(e[1]) for e in all_stats_list[::-1]][:100000])"
   ]
  },
  {
   "cell_type": "code",
   "execution_count": null,
   "metadata": {},
   "outputs": [],
   "source": [
    "kilt_stats = {}\n",
    "for k in tqdm(title_id.keys()):\n",
    "    kilt_stats[k] = all_stats.get(k.replace(\" \", \"_\"), None)"
   ]
  },
  {
   "cell_type": "code",
   "execution_count": null,
   "metadata": {},
   "outputs": [],
   "source": [
    "all_stats_list_filtered = [\n",
    "    e for e in tqdm(all_stats_list[2:]) if all(a not in e[0] for a in (\n",
    "        \"Special:\", \"User:\", \"File:\", \"Help:\", \"Portal:\", \"Wikipedia:\",\n",
    "        \"Template:\", \"Wikipedia_talk:\", \"Category:\", \"Template_talk:\", \"Talk:\"\n",
    "    ))\n",
    "]"
   ]
  },
  {
   "cell_type": "code",
   "execution_count": null,
   "metadata": {
    "scrolled": false
   },
   "outputs": [],
   "source": [
    "top100k = set(e[0] for e in all_stats_list_filtered[:2000000])"
   ]
  },
  {
   "cell_type": "code",
   "execution_count": null,
   "metadata": {},
   "outputs": [],
   "source": [
    "[e for e in list(top100k)[:100000] if \":\" in e]"
   ]
  },
  {
   "cell_type": "code",
   "execution_count": null,
   "metadata": {},
   "outputs": [],
   "source": [
    "with jsonlines.open(\"/private/home/ndecao/KILT/data/nq-dev-kilt.jsonl\") as f:\n",
    "    dataset = [e for e in f]"
   ]
  },
  {
   "cell_type": "code",
   "execution_count": null,
   "metadata": {},
   "outputs": [],
   "source": [
    "found = [bool(top100k.intersection(set(p[\"title\"].replace(\" \", \"_\") \n",
    "     for o in d[\"output\"] if \"provenance\" in o for p in o[\"provenance\"])))\n",
    "for d in tqdm(dataset)]"
   ]
  },
  {
   "cell_type": "code",
   "execution_count": null,
   "metadata": {},
   "outputs": [],
   "source": [
    "sum(found) / len(found)"
   ]
  },
  {
   "cell_type": "code",
   "execution_count": null,
   "metadata": {},
   "outputs": [],
   "source": []
  },
  {
   "cell_type": "code",
   "execution_count": null,
   "metadata": {},
   "outputs": [],
   "source": [
    "import csv\n",
    "with open(\"/private/home/egrave/efficientqa/data/wiki2018/passages_filter_overlap_list.tsv\") as tsvfile:\n",
    "    tsvreader = csv.reader(tsvfile, delimiter=\"\\t\")\n",
    "    passages_filter_overlap_list = [line for line in tqdm(tsvreader)]"
   ]
  },
  {
   "cell_type": "code",
   "execution_count": null,
   "metadata": {},
   "outputs": [],
   "source": [
    "passages_filter_overlap_dict = defaultdict(list)\n",
    "\n",
    "for e in tqdm(passages_filter_overlap_list):\n",
    "    passages_filter_overlap_dict[e[-1]].append(e)"
   ]
  },
  {
   "cell_type": "code",
   "execution_count": null,
   "metadata": {},
   "outputs": [],
   "source": [
    "len(passages_filter_overlap_dict)"
   ]
  },
  {
   "cell_type": "code",
   "execution_count": null,
   "metadata": {},
   "outputs": [],
   "source": [
    "start_len = len(passages_filter_overlap_dict)\n",
    "end_len = int(start_len * 0.9)\n",
    "while len(passages_filter_overlap_dict) > end_len:\n",
    "    page, _ = all_stats_list_filtered.pop()\n",
    "    if page.replace(\"_\", \" \")  in passages_filter_overlap_dict:\n",
    "        del passages_filter_overlap_dict[page.replace(\"_\", \" \")]"
   ]
  },
  {
   "cell_type": "code",
   "execution_count": null,
   "metadata": {},
   "outputs": [],
   "source": [
    "len(passages_filter_overlap_dict)"
   ]
  },
  {
   "cell_type": "code",
   "execution_count": null,
   "metadata": {},
   "outputs": [],
   "source": [
    "passages_filter_overlap_list_new = [\n",
    "    f for e in passages_filter_overlap_dict.values() for f in e\n",
    "]"
   ]
  },
  {
   "cell_type": "code",
   "execution_count": null,
   "metadata": {},
   "outputs": [],
   "source": [
    "len(passages_filter_overlap_list_new) / len(passages_filter_overlap_list)"
   ]
  },
  {
   "cell_type": "code",
   "execution_count": null,
   "metadata": {},
   "outputs": [],
   "source": []
  },
  {
   "cell_type": "code",
   "execution_count": null,
   "metadata": {},
   "outputs": [],
   "source": []
  },
  {
   "cell_type": "code",
   "execution_count": null,
   "metadata": {},
   "outputs": [],
   "source": [
    "import csv\n",
    "with open(\"/private/home/ndecao/passages_filter_overlap_list_new.tsv\", \"w\") as tsvfile:\n",
    "    tsvfile.writelines(\"\\t\".join(e) + \"\\n\" for e in passages_filter_overlap_list_new)"
   ]
  },
  {
   "cell_type": "code",
   "execution_count": null,
   "metadata": {},
   "outputs": [],
   "source": []
  },
  {
   "cell_type": "code",
   "execution_count": 14,
   "metadata": {},
   "outputs": [],
   "source": [
    "import math\n",
    "import json\n",
    "import jsonlines\n",
    "import pickle\n",
    "from tqdm.auto import tqdm\n",
    "import numpy as np\n",
    "import pickle\n",
    "import matplotlib.pyplot as plt\n",
    "from genre import GENRE\n",
    "from genre.trie import Trie\n",
    "from genre.entity_linking import get_end_to_end_prefix_allowed_tokens_fn_fariseq"
   ]
  },
  {
   "cell_type": "code",
   "execution_count": 2,
   "metadata": {},
   "outputs": [],
   "source": [
    "with open(\"/checkpoint/ndecao/GENRE/data/anchors/mention_entitiy_table.pkl\", \"rb\") as f:\n",
    "    mention_entitiy_table = pickle.load(f)"
   ]
  },
  {
   "cell_type": "code",
   "execution_count": 3,
   "metadata": {},
   "outputs": [],
   "source": [
    "from collections import defaultdict"
   ]
  },
  {
   "cell_type": "code",
   "execution_count": 4,
   "metadata": {},
   "outputs": [],
   "source": [
    "entitiy_mention_table = defaultdict(lambda: defaultdict(int))"
   ]
  },
  {
   "cell_type": "code",
   "execution_count": 5,
   "metadata": {},
   "outputs": [
    {
     "data": {
      "application/vnd.jupyter.widget-view+json": {
       "model_id": "6cc685d8cb5a4c87bd8858ea9801ef25",
       "version_major": 2,
       "version_minor": 0
      },
      "text/plain": [
       "HBox(children=(HTML(value=''), FloatProgress(value=0.0, max=9101248.0), HTML(value='')))"
      ]
     },
     "metadata": {},
     "output_type": "display_data"
    },
    {
     "name": "stdout",
     "output_type": "stream",
     "text": [
      "\n"
     ]
    }
   ],
   "source": [
    "for m, d in tqdm(mention_entitiy_table.items()):\n",
    "    for e, c in d.items():\n",
    "        entitiy_mention_table[e][m] += c"
   ]
  },
  {
   "cell_type": "code",
   "execution_count": null,
   "metadata": {},
   "outputs": [],
   "source": []
  },
  {
   "cell_type": "code",
   "execution_count": 87,
   "metadata": {},
   "outputs": [
    {
     "data": {
      "application/vnd.jupyter.widget-view+json": {
       "model_id": "6346b26d8fb840ff9cfc87ce7408b7a3",
       "version_major": 2,
       "version_minor": 0
      },
      "text/plain": [
       "HBox(children=(HTML(value=''), FloatProgress(value=0.0, max=10.0), HTML(value='')))"
      ]
     },
     "metadata": {},
     "output_type": "display_data"
    },
    {
     "name": "stdout",
     "output_type": "stream",
     "text": [
      "\n"
     ]
    }
   ],
   "source": [
    "dataset_guess = []\n",
    "dataset_gold = []\n",
    "base = \"/checkpoint/fabiopetroni/GENRE/checkpoint/all_kilt.bart_large.ls0.1.mt2048.uf1.mu200000.dr0.1.atdr0.1.actdr0.0.wd0.01.adam.beta9999.eps1e-08.clip0.1.lr3e-05.warm500.fp16.ngpu128/\"\n",
    "for d in tqdm((\"nq\", \"fever\", \"triviaqa\", \"wow\", \"trex\", \"hotpotqa\", \"structured_zeroshot\", \"wned\", \"cweb\", \"aidayago2\")):\n",
    "    with jsonlines.open(base + \"{}-dev-kilt.filtered_60.search-lenpen=1.jsonl\".format(d)) as f:\n",
    "        dataset_guess += [e for e in f]\n",
    "\n",
    "    with jsonlines.open(\"/private/home/ndecao/KILT/data/{}-dev-kilt.jsonl\".format(d)) as f:\n",
    "        dataset_gold += [e for e in f]"
   ]
  },
  {
   "cell_type": "code",
   "execution_count": 88,
   "metadata": {},
   "outputs": [
    {
     "name": "stderr",
     "output_type": "stream",
     "text": [
      "/private/home/ndecao/.conda/envs/genre37/lib/python3.7/site-packages/hydra/_internal/hydra.py:71: UserWarning: \n",
      "@hydra.main(strict) flag is deprecated and will removed in the next version.\n",
      "See https://hydra.cc/docs/next/upgrades/0.11_to_1.0/strict_mode_flag_deprecated\n",
      "  warnings.warn(message=msg, category=UserWarning)\n"
     ]
    }
   ],
   "source": [
    "model = (\n",
    "    GENRE.from_pretrained(\"models/fairseq_entity_disambiguation_aidayago\")\n",
    "    .eval()\n",
    ")"
   ]
  },
  {
   "cell_type": "code",
   "execution_count": 89,
   "metadata": {},
   "outputs": [
    {
     "data": {
      "application/vnd.jupyter.widget-view+json": {
       "model_id": "21c45cd097f04f929c9cb482b19b8e49",
       "version_major": 2,
       "version_minor": 0
      },
      "text/plain": [
       "HBox(children=(HTML(value=''), FloatProgress(value=0.0, max=49801.0), HTML(value='')))"
      ]
     },
     "metadata": {},
     "output_type": "display_data"
    },
    {
     "name": "stdout",
     "output_type": "stream",
     "text": [
      "\n"
     ]
    }
   ],
   "source": [
    "stats = []\n",
    "for dp, dg in zip(tqdm(dataset_guess), dataset_gold):\n",
    "    lens = [len(model.encode(e)) for e in set(p[\"title\"] for o in dg[\"output\"] if \"provenance\" in o for p in o[\"provenance\"])]\n",
    "    stats.append((\n",
    "        dp[\"output\"][0][\"provenance\"][0][\"title\"] in [p[\"title\"] for o in dg[\"output\"] if \"provenance\" in o for p in o[\"provenance\"]],\n",
    "        sum(lens) / len(lens)\n",
    "    ))"
   ]
  },
  {
   "cell_type": "code",
   "execution_count": 90,
   "metadata": {},
   "outputs": [
    {
     "name": "stderr",
     "output_type": "stream",
     "text": [
      "/private/home/ndecao/.conda/envs/genre37/lib/python3.7/site-packages/numpy/core/fromnumeric.py:3373: RuntimeWarning: Mean of empty slice.\n",
      "  out=out, **kwargs)\n",
      "/private/home/ndecao/.conda/envs/genre37/lib/python3.7/site-packages/numpy/core/_methods.py:170: RuntimeWarning: invalid value encountered in double_scalars\n",
      "  ret = ret.dtype.type(ret / rcount)\n"
     ]
    }
   ],
   "source": [
    "nstats = []\n",
    "for i in range(1, int(max(e[1] for e in stats)) + 1):\n",
    "    l = [e[0] for e in stats if (i !=0 and e[1] != 0 and i <= e[1] < i + 1) or (i == 0 and e[1] == 0)]\n",
    "    nstats.append([i, np.mean(l), len(l)])"
   ]
  },
  {
   "cell_type": "code",
   "execution_count": 91,
   "metadata": {},
   "outputs": [],
   "source": [
    "nstats = nstats[2:18]"
   ]
  },
  {
   "cell_type": "code",
   "execution_count": 92,
   "metadata": {},
   "outputs": [
    {
     "name": "stderr",
     "output_type": "stream",
     "text": [
      "/private/home/ndecao/.conda/envs/genre37/lib/python3.7/site-packages/ipykernel_launcher.py:3: MatplotlibDeprecationWarning: Adding an axes using the same arguments as a previous axes currently reuses the earlier instance.  In a future version, a new instance will always be created and returned.  Meanwhile, this warning can be suppressed, and the future behavior ensured, by passing a unique label to each axes instance.\n",
      "  This is separate from the ipykernel package so we can avoid doing imports until\n"
     ]
    },
    {
     "data": {
      "image/png": "[encoded data removed]",
      "text/plain": [
       "<Figure size 1152x432 with 2 Axes>"
      ]
     },
     "metadata": {
      "needs_background": "light"
     },
     "output_type": "display_data"
    }
   ],
   "source": [
    "fig=plt.figure(figsize=(16, 6))\n",
    "plt.grid(axis=\"y\")\n",
    "figure=fig.add_subplot(111)\n",
    "figure.bar(\n",
    "    range(len(nstats)),\n",
    "    [e[1] for e in nstats],\n",
    "    alpha=0.7,\n",
    "    hatch=\"//\",\n",
    "    label=\"Accuracy\"\n",
    ")\n",
    "figure.bar(\n",
    "    range(len(nstats)),\n",
    "    3 * np.array([e[2] for e in nstats]) / sum(e[2] for e in nstats),\n",
    "    alpha=1,\n",
    "    hatch=\"\\\\\\\\\",\n",
    "    label=\"Data distribution\"\n",
    ")\n",
    "plt.xlabel(\"Number of Tokens\", fontsize=18)\n",
    "\n",
    "plt.yticks(np.linspace(0, 1, 11), fontsize=14)\n",
    "plt.xticks(range(len(nstats)), [e[0] for e in nstats], fontsize=14)\n",
    "plt.legend(fontsize=14, framealpha=1)\n",
    "figure.set_ylabel(\"Accuracy\", fontsize=18)\n",
    "\n",
    "y1, y2=figure.get_ylim()\n",
    "x1, x2=figure.get_xlim()\n",
    "ax2=figure.twinx()\n",
    "ax2.set_ylim(y1, y2)\n",
    "ax2.set_yticks(np.linspace(0, 1, 11))\n",
    "ax2.set_yticklabels([\"{:.1e}\".format(e) for e in sum(e[2] for e in nstats) * np.linspace(0, 1, 11) / 3],\n",
    "                    fontsize=14)\n",
    "ax2.set_ylabel('Frequency', fontsize=18)\n",
    "\n",
    "plt.savefig(\"kilt_el_token_stats.pdf\", bbox_inches='tight', pad_inches=0)"
   ]
  },
  {
   "cell_type": "code",
   "execution_count": null,
   "metadata": {},
   "outputs": [],
   "source": []
  },
  {
   "cell_type": "code",
   "execution_count": 93,
   "metadata": {},
   "outputs": [
    {
     "data": {
      "application/vnd.jupyter.widget-view+json": {
       "model_id": "423b09344dd14d1db20078df07a0e2c7",
       "version_major": 2,
       "version_minor": 0
      },
      "text/plain": [
       "HBox(children=(HTML(value=''), FloatProgress(value=0.0, max=49801.0), HTML(value='')))"
      ]
     },
     "metadata": {},
     "output_type": "display_data"
    },
    {
     "name": "stdout",
     "output_type": "stream",
     "text": [
      "\n"
     ]
    }
   ],
   "source": [
    "stats = []\n",
    "for dp, dg in zip(tqdm(dataset_guess), dataset_gold):\n",
    "    stats.append((\n",
    "        dp[\"output\"][0][\"provenance\"][0][\"title\"] in [\n",
    "            p[\"title\"] for o in dg[\"output\"] if \"provenance\" in o for p in o[\"provenance\"]\n",
    "        ],\n",
    "        sum(entitiy_mention_table[dp[\"output\"][0][\"provenance\"][0][\"title\"]].values())\n",
    "    ))"
   ]
  },
  {
   "cell_type": "code",
   "execution_count": 94,
   "metadata": {
    "scrolled": true
   },
   "outputs": [],
   "source": [
    "nstats = []\n",
    "for i in range(-1, math.ceil(math.log(max(e[1] for e in stats), 2))):\n",
    "    l = [e[0] for e in stats\n",
    "         if (i != -1 and e[1] != 0 and 2 ** i <= e[1] < 2 ** (i + 1)) or (i == -1 and e[1] == 0)]\n",
    "    nstats.append([i, np.mean(l), len(l)])"
   ]
  },
  {
   "cell_type": "code",
   "execution_count": 95,
   "metadata": {},
   "outputs": [
    {
     "name": "stderr",
     "output_type": "stream",
     "text": [
      "/private/home/ndecao/.conda/envs/genre37/lib/python3.7/site-packages/ipykernel_launcher.py:3: MatplotlibDeprecationWarning: Adding an axes using the same arguments as a previous axes currently reuses the earlier instance.  In a future version, a new instance will always be created and returned.  Meanwhile, this warning can be suppressed, and the future behavior ensured, by passing a unique label to each axes instance.\n",
      "  This is separate from the ipykernel package so we can avoid doing imports until\n"
     ]
    },
    {
     "data": {
      "image/png": "[encoded data removed]",
      "text/plain": [
       "<Figure size 1152x432 with 2 Axes>"
      ]
     },
     "metadata": {
      "needs_background": "light"
     },
     "output_type": "display_data"
    }
   ],
   "source": [
    "fig=plt.figure(figsize=(16, 6))\n",
    "plt.grid(axis=\"y\")\n",
    "figure=fig.add_subplot(111)\n",
    "figure.bar(\n",
    "    range(len(nstats)),\n",
    "    [e[1] for e in nstats],\n",
    "    alpha=0.7,\n",
    "    hatch=\"//\",\n",
    "    label=\"Accuracy\"\n",
    ")\n",
    "figure.bar(\n",
    "    range(len(nstats)),\n",
    "    3 * np.array([e[2] for e in nstats]) / sum(e[2] for e in nstats),\n",
    "    alpha=1,\n",
    "    hatch=\"\\\\\\\\\",\n",
    "    label=\"Data distribution\"\n",
    ")\n",
    "plt.xlabel(\"Number of incoming links in Wikipedia\", fontsize=18)\n",
    "\n",
    "plt.yticks(np.linspace(0, 1, 11), fontsize=14)\n",
    "plt.xticks(range(len(nstats)), [\"None\"] + [\"$2^{{{}}}$\".format(e[0]) for e in nstats[1:]], fontsize=14)\n",
    "plt.legend(fontsize=14, framealpha=1)\n",
    "figure.set_ylabel(\"Accuracy\", fontsize=18)\n",
    "\n",
    "y1, y2=figure.get_ylim()\n",
    "x1, x2=figure.get_xlim()\n",
    "ax2=figure.twinx()\n",
    "ax2.set_ylim(y1, y2)\n",
    "ax2.set_yticks(np.linspace(0, 1, 11))\n",
    "ax2.set_yticklabels([\"{:.1e}\".format(e) for e in sum(e[2] for e in nstats) * np.linspace(0, 1, 11) / 3],\n",
    "                    fontsize=14)\n",
    "ax2.set_ylabel('Frequency', fontsize=18)\n",
    "plt.savefig(\"kilt_el_entity_stats.pdf\", bbox_inches='tight', pad_inches=0)"
   ]
  },
  {
   "cell_type": "code",
   "execution_count": 98,
   "metadata": {},
   "outputs": [
    {
     "data": {
      "text/plain": [
       "0.7862492721029698"
      ]
     },
     "execution_count": 98,
     "metadata": {},
     "output_type": "execute_result"
    }
   ],
   "source": [
    "sum(e[0] for e in stats) / len(stats)"
   ]
  },
  {
   "cell_type": "code",
   "execution_count": 96,
   "metadata": {},
   "outputs": [
    {
     "data": {
      "text/plain": [
       "[[-1, 0.6125827814569537, 1510],\n",
       " [0, 0.8392036753445635, 1306],\n",
       " [1, 0.8423795049934868, 2303],\n",
       " [2, 0.8331020124913254, 2882],\n",
       " [3, 0.8168476665688289, 3407],\n",
       " [4, 0.794543429844098, 3592],\n",
       " [5, 0.778672032193159, 4473],\n",
       " [6, 0.7928075194115243, 4894],\n",
       " [7, 0.7477693144722525, 4595],\n",
       " [8, 0.7208413001912046, 4707],\n",
       " [9, 0.7720118052139695, 4066],\n",
       " [10, 0.7733610204687037, 3371],\n",
       " [11, 0.8088393819619116, 2783],\n",
       " [12, 0.8072687224669604, 1816],\n",
       " [13, 0.8173652694610778, 1336],\n",
       " [14, 0.85431654676259, 1112],\n",
       " [15, 0.8620689655172413, 667],\n",
       " [16, 0.8926470588235295, 680],\n",
       " [17, 0.9235880398671097, 301]]"
      ]
     },
     "execution_count": 96,
     "metadata": {},
     "output_type": "execute_result"
    }
   ],
   "source": [
    "nstats"
   ]
  },
  {
   "cell_type": "code",
   "execution_count": null,
   "metadata": {},
   "outputs": [],
   "source": []
  },
  {
   "cell_type": "code",
   "execution_count": 76,
   "metadata": {},
   "outputs": [
    {
     "data": {
      "application/vnd.jupyter.widget-view+json": {
       "model_id": "1a2f988cb85e44dfa76871446657a728",
       "version_major": 2,
       "version_minor": 0
      },
      "text/plain": [
       "HBox(children=(HTML(value=''), FloatProgress(value=0.0, max=3.0), HTML(value='')))"
      ]
     },
     "metadata": {},
     "output_type": "display_data"
    },
    {
     "name": "stdout",
     "output_type": "stream",
     "text": [
      "\n"
     ]
    }
   ],
   "source": [
    "dataset_guess = []\n",
    "dataset_gold = []\n",
    "base = \"/checkpoint/fabiopetroni/GENRE/checkpoint/all_kilt.bart_large.ls0.1.mt2048.uf1.mu200000.dr0.1.atdr0.1.actdr0.0.wd0.01.adam.beta9999.eps1e-08.clip0.1.lr3e-05.warm500.fp16.ngpu128/\"\n",
    "for d in tqdm((\"wned\", \"cweb\", \"aidayago2\")):\n",
    "    with jsonlines.open(base + \"{}-dev-kilt.filtered_60.search-lenpen=1.jsonl\".format(d)) as f:\n",
    "        dataset_guess += [e for e in f]\n",
    "\n",
    "    with jsonlines.open(\"/private/home/ndecao/KILT/data/{}-dev-kilt.jsonl\".format(d)) as f:\n",
    "        dataset_gold += [e for e in f]"
   ]
  },
  {
   "cell_type": "code",
   "execution_count": 77,
   "metadata": {},
   "outputs": [
    {
     "data": {
      "application/vnd.jupyter.widget-view+json": {
       "model_id": "c7c4191c53764bdeb6a91e620a5d0627",
       "version_major": 2,
       "version_minor": 0
      },
      "text/plain": [
       "HBox(children=(HTML(value=''), FloatProgress(value=0.0, max=13779.0), HTML(value='')))"
      ]
     },
     "metadata": {},
     "output_type": "display_data"
    },
    {
     "name": "stdout",
     "output_type": "stream",
     "text": [
      "\n"
     ]
    }
   ],
   "source": [
    "stats = []\n",
    "for dp, dg in zip(tqdm(dataset_guess), dataset_gold):\n",
    "    stats.append((\n",
    "        dp[\"output\"][0][\"provenance\"][0][\"title\"] in [\n",
    "            p[\"title\"] for o in dg[\"output\"] if \"provenance\" in o for p in o[\"provenance\"]\n",
    "        ],\n",
    "        mention_entitiy_table.get(dg[\"meta\"][\"mention\"].replace(\" -- \", \"–\"), {}).get(\n",
    "            dp[\"output\"][0][\"provenance\"][0][\"title\"], 0\n",
    "        )\n",
    "    ))"
   ]
  },
  {
   "cell_type": "code",
   "execution_count": 78,
   "metadata": {},
   "outputs": [],
   "source": [
    "nstats = []\n",
    "for i in range(-1, math.ceil(math.log(max(e[1] for e in stats), 2))):\n",
    "    l = [e[0] for e in stats\n",
    "         if (i != -1 and e[1] != 0 and 2 ** i <= e[1] < 2 ** (i + 1)) or (i == -1 and e[1] == 0)]\n",
    "    nstats.append([i, np.mean(l), len(l)])"
   ]
  },
  {
   "cell_type": "code",
   "execution_count": 83,
   "metadata": {},
   "outputs": [
    {
     "name": "stderr",
     "output_type": "stream",
     "text": [
      "/private/home/ndecao/.conda/envs/genre37/lib/python3.7/site-packages/ipykernel_launcher.py:3: MatplotlibDeprecationWarning: Adding an axes using the same arguments as a previous axes currently reuses the earlier instance.  In a future version, a new instance will always be created and returned.  Meanwhile, this warning can be suppressed, and the future behavior ensured, by passing a unique label to each axes instance.\n",
      "  This is separate from the ipykernel package so we can avoid doing imports until\n"
     ]
    },
    {
     "data": {
      "image/png": "[encoded data removed]",
      "text/plain": [
       "<Figure size 1152x432 with 2 Axes>"
      ]
     },
     "metadata": {
      "needs_background": "light"
     },
     "output_type": "display_data"
    }
   ],
   "source": [
    "fig=plt.figure(figsize=(16, 6))\n",
    "plt.grid(axis=\"y\")\n",
    "figure=fig.add_subplot(111)\n",
    "figure.bar(\n",
    "    range(len(nstats)),\n",
    "    [e[1] for e in nstats],\n",
    "    alpha=0.7,\n",
    "    hatch=\"//\",\n",
    "    label=\"Accuracy\"\n",
    ")\n",
    "figure.bar(\n",
    "    range(len(nstats)),\n",
    "    2 * np.array([e[2] for e in nstats]) / sum(e[2] for e in nstats),\n",
    "    alpha=1,\n",
    "    hatch=\"\\\\\\\\\",\n",
    "    label=\"Data distribution\"\n",
    ")\n",
    "plt.xlabel(\"Mention-entity pair appearances\", fontsize=18)\n",
    "\n",
    "plt.yticks(np.linspace(0, 1, 11), fontsize=14)\n",
    "plt.xticks(range(len(nstats)), [\"None\"] + [\"$2^{{{}}}$\".format(e[0]) for e in nstats[1:]], fontsize=14)\n",
    "plt.legend(fontsize=14, framealpha=1)\n",
    "figure.set_ylabel(\"Accuracy\", fontsize=18)\n",
    "figure.set_ylim(0,1)\n",
    "\n",
    "y1, y2=figure.get_ylim()\n",
    "x1, x2=figure.get_xlim()\n",
    "ax2=figure.twinx()\n",
    "ax2.set_ylim(y1, 1)\n",
    "ax2.set_yticks(np.linspace(0, 1, 11))\n",
    "ax2.set_yticklabels([\"{:.1e}\".format(e) for e in sum(e[2] for e in nstats) * np.linspace(0, 1, 11) / 2],\n",
    "                    fontsize=14)\n",
    "ax2.set_ylabel('Frequency', fontsize=18)\n",
    "\n",
    "# plt.show()\n",
    "plt.ylim(0,1)\n",
    "plt.savefig(\"kilt_el_mention_stats.pdf\", bbox_inches='tight', pad_inches=0)"
   ]
  },
  {
   "cell_type": "code",
   "execution_count": 80,
   "metadata": {},
   "outputs": [
    {
     "data": {
      "text/plain": [
       "(0.0, 1.0148698884758365)"
      ]
     },
     "execution_count": 80,
     "metadata": {},
     "output_type": "execute_result"
    }
   ],
   "source": [
    "y1, y2"
   ]
  },
  {
   "cell_type": "code",
   "execution_count": null,
   "metadata": {},
   "outputs": [],
   "source": []
  },
  {
   "cell_type": "code",
   "execution_count": null,
   "metadata": {},
   "outputs": [],
   "source": [
    "2 ** 17"
   ]
  },
  {
   "cell_type": "code",
   "execution_count": null,
   "metadata": {},
   "outputs": [],
   "source": [
    "l = [float(e) for e in \"86.4 & 80.0 & 81.7 & 82.1 & 66.0 & 81.1\".split(\"&\")]\n",
    "sum(l) / len(l)"
   ]
  },
  {
   "cell_type": "code",
   "execution_count": null,
   "metadata": {},
   "outputs": [],
   "source": []
  },
  {
   "cell_type": "code",
   "execution_count": null,
   "metadata": {},
   "outputs": [],
   "source": [
    "sum(e[2] for e in nstats)"
   ]
  },
  {
   "cell_type": "code",
   "execution_count": null,
   "metadata": {},
   "outputs": [],
   "source": [
    "10931 - 13354"
   ]
  },
  {
   "cell_type": "code",
   "execution_count": null,
   "metadata": {},
   "outputs": [],
   "source": [
    "sum(e[0] for e in stats) / len(stats)"
   ]
  },
  {
   "cell_type": "code",
   "execution_count": null,
   "metadata": {},
   "outputs": [],
   "source": [
    "import math\n",
    "import numpy as np"
   ]
  },
  {
   "cell_type": "code",
   "execution_count": null,
   "metadata": {},
   "outputs": [],
   "source": []
  },
  {
   "cell_type": "code",
   "execution_count": null,
   "metadata": {
    "scrolled": true
   },
   "outputs": [],
   "source": [
    "with open(\"/private/home/ndecao/id_title.json\") as f:\n",
    "    id_title = json.load(f)\n",
    "    title_id = {v: k for k, v in id_title.items()}"
   ]
  },
  {
   "cell_type": "code",
   "execution_count": null,
   "metadata": {},
   "outputs": [],
   "source": [
    "id_title"
   ]
  },
  {
   "cell_type": "code",
   "execution_count": null,
   "metadata": {},
   "outputs": [],
   "source": [
    "results = list(results.values())"
   ]
  },
  {
   "cell_type": "code",
   "execution_count": null,
   "metadata": {},
   "outputs": [],
   "source": [
    "results[2]"
   ]
  },
  {
   "cell_type": "code",
   "execution_count": null,
   "metadata": {},
   "outputs": [],
   "source": [
    "import requests, json\n",
    "myjson = { \"text\": \"Obama will visit Germany and have a meeting with Merkel tomorrow.\", \"spans\": []  }\n",
    "res = requests.post(\"http://localhost:55555\", json=myjson)"
   ]
  },
  {
   "cell_type": "code",
   "execution_count": null,
   "metadata": {},
   "outputs": [],
   "source": [
    "res.content"
   ]
  },
  {
   "cell_type": "code",
   "execution_count": null,
   "metadata": {},
   "outputs": [],
   "source": [
    "res = requests.post(\"http://localhost:12351/gerbil-spotWrapNifWS4Test/myalgorithm\", json=myjson)"
   ]
  },
  {
   "cell_type": "code",
   "execution_count": null,
   "metadata": {},
   "outputs": [],
   "source": [
    "res.__dict__"
   ]
  },
  {
   "cell_type": "code",
   "execution_count": null,
   "metadata": {},
   "outputs": [],
   "source": [
    "\"Florence May Harding studied at a school in Sydney, and with Douglas Robert Dundas , but in effect had no formal training in either botany or art.\"[61:61+21]"
   ]
  },
  {
   "cell_type": "code",
   "execution_count": null,
   "metadata": {},
   "outputs": [],
   "source": []
  }
 ],
 "metadata": {
  "kernelspec": {
   "display_name": "Python 3",
   "language": "python",
   "name": "python3"
  },
  "language_info": {
   "codemirror_mode": {
    "name": "ipython",
    "version": 3
   },
   "file_extension": ".py",
   "mimetype": "text/x-python",
   "name": "python",
   "nbconvert_exporter": "python",
   "pygments_lexer": "ipython3",
   "version": "3.7.9"
  }
 },
 "nbformat": 4,
 "nbformat_minor": 4
}
